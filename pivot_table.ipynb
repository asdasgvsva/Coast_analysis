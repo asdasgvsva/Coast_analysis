{
 "cells": [
  {
   "cell_type": "code",
   "execution_count": 2,
   "metadata": {},
   "outputs": [],
   "source": [
    "import pandas as pd\n",
    "\n",
    "# 샘플 데이터프레임 생성\n",
    "data = pd.read_excel('./data/filled_10years.xlsx')\n",
    "\n",
    "df = pd.DataFrame(data)\n",
    "\n",
    "# station_na와 month가 같으면서 region이 1인 행만 선택\n",
    "filtered_df = df[(df['region'] == 1)]\n",
    "\n",
    "# station_na와 month로 그룹화하고 significant_wave_height의 평균을 계산\n",
    "result_df = filtered_df.groupby(['station_na', 'month'])['유의파고'].mean().reset_index()\n",
    "\n",
    "# 결과를 엑셀 파일로 저장\n",
    "#result_df.to_excel('result.xlsx', index=False)\n"
   ]
  },
  {
   "cell_type": "code",
   "execution_count": 3,
   "metadata": {},
   "outputs": [
    {
     "data": {
      "text/html": [
       "<div>\n",
       "<style scoped>\n",
       "    .dataframe tbody tr th:only-of-type {\n",
       "        vertical-align: middle;\n",
       "    }\n",
       "\n",
       "    .dataframe tbody tr th {\n",
       "        vertical-align: top;\n",
       "    }\n",
       "\n",
       "    .dataframe thead th {\n",
       "        text-align: right;\n",
       "    }\n",
       "</style>\n",
       "<table border=\"1\" class=\"dataframe\">\n",
       "  <thead>\n",
       "    <tr style=\"text-align: right;\">\n",
       "      <th></th>\n",
       "      <th>station_na</th>\n",
       "      <th>month</th>\n",
       "      <th>유의파고</th>\n",
       "    </tr>\n",
       "  </thead>\n",
       "  <tbody>\n",
       "    <tr>\n",
       "      <th>0</th>\n",
       "      <td>가대암</td>\n",
       "      <td>1</td>\n",
       "      <td>0.725161</td>\n",
       "    </tr>\n",
       "    <tr>\n",
       "      <th>1</th>\n",
       "      <td>가대암</td>\n",
       "      <td>2</td>\n",
       "      <td>0.478571</td>\n",
       "    </tr>\n",
       "    <tr>\n",
       "      <th>2</th>\n",
       "      <td>가대암</td>\n",
       "      <td>3</td>\n",
       "      <td>0.412186</td>\n",
       "    </tr>\n",
       "    <tr>\n",
       "      <th>3</th>\n",
       "      <td>가대암</td>\n",
       "      <td>4</td>\n",
       "      <td>0.362333</td>\n",
       "    </tr>\n",
       "    <tr>\n",
       "      <th>4</th>\n",
       "      <td>가대암</td>\n",
       "      <td>5</td>\n",
       "      <td>0.378065</td>\n",
       "    </tr>\n",
       "    <tr>\n",
       "      <th>...</th>\n",
       "      <td>...</td>\n",
       "      <td>...</td>\n",
       "      <td>...</td>\n",
       "    </tr>\n",
       "    <tr>\n",
       "      <th>223</th>\n",
       "      <td>풍도</td>\n",
       "      <td>8</td>\n",
       "      <td>0.266667</td>\n",
       "    </tr>\n",
       "    <tr>\n",
       "      <th>224</th>\n",
       "      <td>풍도</td>\n",
       "      <td>9</td>\n",
       "      <td>0.266667</td>\n",
       "    </tr>\n",
       "    <tr>\n",
       "      <th>225</th>\n",
       "      <td>풍도</td>\n",
       "      <td>10</td>\n",
       "      <td>0.366667</td>\n",
       "    </tr>\n",
       "    <tr>\n",
       "      <th>226</th>\n",
       "      <td>풍도</td>\n",
       "      <td>11</td>\n",
       "      <td>0.466667</td>\n",
       "    </tr>\n",
       "    <tr>\n",
       "      <th>227</th>\n",
       "      <td>풍도</td>\n",
       "      <td>12</td>\n",
       "      <td>0.500000</td>\n",
       "    </tr>\n",
       "  </tbody>\n",
       "</table>\n",
       "<p>228 rows × 3 columns</p>\n",
       "</div>"
      ],
      "text/plain": [
       "    station_na  month      유의파고\n",
       "0          가대암      1  0.725161\n",
       "1          가대암      2  0.478571\n",
       "2          가대암      3  0.412186\n",
       "3          가대암      4  0.362333\n",
       "4          가대암      5  0.378065\n",
       "..         ...    ...       ...\n",
       "223         풍도      8  0.266667\n",
       "224         풍도      9  0.266667\n",
       "225         풍도     10  0.366667\n",
       "226         풍도     11  0.466667\n",
       "227         풍도     12  0.500000\n",
       "\n",
       "[228 rows x 3 columns]"
      ]
     },
     "execution_count": 3,
     "metadata": {},
     "output_type": "execute_result"
    }
   ],
   "source": [
    "result_df"
   ]
  },
  {
   "cell_type": "code",
   "execution_count": 21,
   "metadata": {},
   "outputs": [],
   "source": [
    "pivot_df_sig =  df[df['region'] == 5].pivot_table(index='station_na', columns='month', values='유의파고')"
   ]
  },
  {
   "cell_type": "code",
   "execution_count": 38,
   "metadata": {},
   "outputs": [],
   "source": [
    "pivot_df_max =  df[df['region'] == 5].pivot_table(index='station_na', columns='month', values='최대파고')"
   ]
  },
  {
   "cell_type": "code",
   "execution_count": 22,
   "metadata": {},
   "outputs": [],
   "source": [
    "pivot_df_sig.to_excel('유의파고5구역.xlsx')"
   ]
  },
  {
   "cell_type": "code",
   "execution_count": 39,
   "metadata": {},
   "outputs": [],
   "source": [
    "pivot_df_max.to_excel('최대파고5구역.xlsx')"
   ]
  }
 ],
 "metadata": {
  "kernelspec": {
   "display_name": "marine",
   "language": "python",
   "name": "python3"
  },
  "language_info": {
   "codemirror_mode": {
    "name": "ipython",
    "version": 3
   },
   "file_extension": ".py",
   "mimetype": "text/x-python",
   "name": "python",
   "nbconvert_exporter": "python",
   "pygments_lexer": "ipython3",
   "version": "3.9.19"
  }
 },
 "nbformat": 4,
 "nbformat_minor": 2
}
