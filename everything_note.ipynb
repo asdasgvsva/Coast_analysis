{
 "cells": [
  {
   "cell_type": "code",
   "execution_count": null,
   "metadata": {},
   "outputs": [],
   "source": [
    "import pandas as pd\n",
    "\n",
    "# 샘플 데이터프레임 생성\n",
    "data = pd.read_excel('./data/filled_years.xlsx')\n",
    "\n",
    "df = pd.DataFrame(data)\n",
    "\n",
    "# station_na와 month가 같으면서 region이 1인 행만 선택\n",
    "filtered_df = df[(df['region'] == 1)]\n",
    "\n",
    "# station_na와 month로 그룹화하고 significant_wave_height의 평균을 계산\n",
    "result_df = filtered_df.groupby(['station_na', 'month'])['significant_wave_height'].mean().reset_index()\n",
    "\n",
    "# 결과를 엑셀 파일로 저장\n",
    "result_df.to_excel('result.xlsx', index=False)\n"
   ]
  }
 ],
 "metadata": {
  "language_info": {
   "name": "python"
  }
 },
 "nbformat": 4,
 "nbformat_minor": 2
}
